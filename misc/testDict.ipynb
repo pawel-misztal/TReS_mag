{
 "cells": [
  {
   "cell_type": "code",
   "execution_count": 1,
   "id": "de0b6998",
   "metadata": {},
   "outputs": [],
   "source": [
    "import os\n",
    "os.environ['HSA_OVERRIDE_GFX_VERSION'] = '10.3.0'"
   ]
  },
  {
   "cell_type": "code",
   "execution_count": 2,
   "id": "004ae161",
   "metadata": {},
   "outputs": [],
   "source": [
    "%load_ext autoreload\n",
    "%autoreload 2"
   ]
  },
  {
   "cell_type": "code",
   "execution_count": 30,
   "id": "b4125ef7",
   "metadata": {},
   "outputs": [],
   "source": [
    "\n",
    "class Foo():\n",
    "    a = 1\n",
    "    \n",
    "    def __init__(self):\n",
    "        self.b = 2"
   ]
  },
  {
   "cell_type": "code",
   "execution_count": 31,
   "id": "7307a75f",
   "metadata": {},
   "outputs": [],
   "source": [
    "foo = Foo()\n"
   ]
  },
  {
   "cell_type": "code",
   "execution_count": 20,
   "id": "62a5913a",
   "metadata": {},
   "outputs": [
    {
     "ename": "TypeError",
     "evalue": "'Foo' object is not subscriptable",
     "output_type": "error",
     "traceback": [
      "\u001b[31m---------------------------------------------------------------------------\u001b[39m",
      "\u001b[31mTypeError\u001b[39m                                 Traceback (most recent call last)",
      "\u001b[36mCell\u001b[39m\u001b[36m \u001b[39m\u001b[32mIn[20]\u001b[39m\u001b[32m, line 1\u001b[39m\n\u001b[32m----> \u001b[39m\u001b[32m1\u001b[39m \u001b[43mfoo\u001b[49m\u001b[43m[\u001b[49m\u001b[33;43m\"\u001b[39;49m\u001b[33;43ma\u001b[39;49m\u001b[33;43m\"\u001b[39;49m\u001b[43m]\u001b[49m\n",
      "\u001b[31mTypeError\u001b[39m: 'Foo' object is not subscriptable"
     ]
    }
   ],
   "source": [
    "foo[\"a\"]"
   ]
  },
  {
   "cell_type": "code",
   "execution_count": 27,
   "id": "3b6e185c",
   "metadata": {},
   "outputs": [
    {
     "data": {
      "text/plain": [
       "mappingproxy({'__module__': '__main__',\n",
       "              'a': 1,\n",
       "              '__init__': <function __main__.Foo.__init__(self)>,\n",
       "              '__dict__': <attribute '__dict__' of 'Foo' objects>,\n",
       "              '__weakref__': <attribute '__weakref__' of 'Foo' objects>,\n",
       "              '__doc__': 'Foo()',\n",
       "              '__dataclass_params__': _DataclassParams(init=True,repr=True,eq=True,order=False,unsafe_hash=False,frozen=False,match_args=True,kw_only=False,slots=False,weakref_slot=False),\n",
       "              '__dataclass_fields__': {},\n",
       "              '__repr__': <function __main__.Foo.__repr__(self)>,\n",
       "              '__eq__': <function __main__.Foo.__eq__(self, other)>,\n",
       "              '__hash__': None,\n",
       "              '__match_args__': ()})"
      ]
     },
     "execution_count": 27,
     "metadata": {},
     "output_type": "execute_result"
    }
   ],
   "source": [
    "Foo.__dict__"
   ]
  },
  {
   "cell_type": "code",
   "execution_count": 34,
   "id": "4158e690",
   "metadata": {},
   "outputs": [
    {
     "data": {
      "text/plain": [
       "{'b': 2}"
      ]
     },
     "execution_count": 34,
     "metadata": {},
     "output_type": "execute_result"
    }
   ],
   "source": [
    "foo.__dict__"
   ]
  },
  {
   "cell_type": "code",
   "execution_count": 33,
   "id": "9620edfb",
   "metadata": {},
   "outputs": [],
   "source": [
    "foo1 = Foo()"
   ]
  },
  {
   "cell_type": "code",
   "execution_count": 24,
   "id": "834d2674",
   "metadata": {},
   "outputs": [
    {
     "name": "stdout",
     "output_type": "stream",
     "text": [
      "1 1\n",
      "2 2\n",
      "1 4\n",
      "2 5\n"
     ]
    }
   ],
   "source": [
    "print(foo1.a, foo.a)\n",
    "print(foo1.b, foo.b)\n",
    "foo.b = 5\n",
    "foo.a = 4\n",
    "print(foo1.a, foo.a)\n",
    "print(foo1.b, foo.b)"
   ]
  },
  {
   "cell_type": "code",
   "execution_count": 97,
   "id": "027be605",
   "metadata": {},
   "outputs": [],
   "source": [
    "from dataclasses import dataclass, asdict,  field\n",
    "import json\n",
    "from typing import Dict, List\n",
    "\n",
    "@dataclass\n",
    "class Foo2:\n",
    "    a:int\n",
    "    b:int = 2\n",
    "    c:Dict = field(default_factory=lambda: {})\n",
    "    d:List = field(default_factory=lambda: [])\n",
    "\n",
    "    def __hash__(self):\n",
    "        return hash(json.dumps(self.__dict__))"
   ]
  },
  {
   "cell_type": "code",
   "execution_count": 98,
   "id": "144f44ef",
   "metadata": {},
   "outputs": [
    {
     "data": {
      "text/plain": [
       "{'a': 1, 'b': 2, 'c': {}, 'd': []}"
      ]
     },
     "execution_count": 98,
     "metadata": {},
     "output_type": "execute_result"
    }
   ],
   "source": [
    "ifoo2 = Foo2(1,2,)\n",
    "ifoo2.__dict__"
   ]
  },
  {
   "cell_type": "code",
   "execution_count": 92,
   "id": "c839ec58",
   "metadata": {},
   "outputs": [
    {
     "name": "stdout",
     "output_type": "stream",
     "text": [
      "{\"model\": {\"a\": 1, \"b\": 2, \"c\": {\"foo\": \"bar\"}}}\n",
      "{'a': 1, 'b': 2, 'c': {'foo': 'bar'}}\n",
      "<class 'dict'>\n",
      "1 2\n"
     ]
    }
   ],
   "source": [
    "import json\n",
    "stats = {\n",
    "    \"model\" : ifoo2.__dict__\n",
    "}\n",
    "jsonstats = json.dumps(stats)\n",
    "print(jsonstats)\n",
    "\n",
    "obj = json.loads(jsonstats)\n",
    "print(obj[\"model\"])\n",
    "print(type(obj[\"model\"]))\n",
    "foo2fromjson = Foo2(**obj[\"model\"])\n",
    "print(foo2fromjson.a, foo2fromjson.b)"
   ]
  },
  {
   "cell_type": "code",
   "execution_count": 93,
   "id": "df76d530",
   "metadata": {},
   "outputs": [
    {
     "name": "stdout",
     "output_type": "stream",
     "text": [
      "22159840 22128328\n",
      "-7779551416545252251\n",
      "-7779551416545252251\n",
      "8591694378226\n"
     ]
    }
   ],
   "source": [
    "print(hash(Foo2), hash(Foo)) \n",
    "print(hash(json.dumps(ifoo2.__dict__)))\n",
    "print(hash(ifoo2))\n",
    "print(hash(foo))"
   ]
  },
  {
   "cell_type": "code",
   "execution_count": 120,
   "id": "856e5621",
   "metadata": {},
   "outputs": [
    {
     "name": "stdout",
     "output_type": "stream",
     "text": [
      "lrs {\n",
      "  \"step_size\": 1,\n",
      "  \"gamma\": 0.1,\n",
      "  \"base_lrs\": [\n",
      "    0.001\n",
      "  ],\n",
      "  \"last_epoch\": 0,\n",
      "  \"_step_count\": 1,\n",
      "  \"_get_lr_called_within_step\": false,\n",
      "  \"_last_lr\": [\n",
      "    0.001\n",
      "  ]\n",
      "}\n",
      "optim {\n",
      "  \"state\": {},\n",
      "  \"param_groups\": [\n",
      "    {\n",
      "      \"lr\": 0.001,\n",
      "      \"betas\": [\n",
      "        0.9,\n",
      "        0.999\n",
      "      ],\n",
      "      \"eps\": 1e-08,\n",
      "      \"weight_decay\": 0,\n",
      "      \"amsgrad\": false,\n",
      "      \"maximize\": false,\n",
      "      \"foreach\": null,\n",
      "      \"capturable\": false,\n",
      "      \"differentiable\": false,\n",
      "      \"fused\": null,\n",
      "      \"decoupled_weight_decay\": false,\n",
      "      \"initial_lr\": 0.001,\n",
      "      \"params\": [\n",
      "        0,\n",
      "        1\n",
      "      ]\n",
      "    }\n",
      "  ]\n",
      "}\n"
     ]
    },
    {
     "data": {
      "text/plain": [
       "b'\\x80\\x04\\x95c\\x05\\x00\\x00\\x00\\x00\\x00\\x00\\x8c\\x08__main__\\x94\\x8c\\x01M\\x94\\x93\\x94)\\x81\\x94}\\x94(\\x8c\\x08training\\x94\\x88\\x8c\\x0b_parameters\\x94}\\x94\\x8c\\x08_buffers\\x94}\\x94\\x8c\\x1b_non_persistent_buffers_set\\x94\\x8f\\x94\\x8c\\x13_backward_pre_hooks\\x94\\x8c\\x0bcollections\\x94\\x8c\\x0bOrderedDict\\x94\\x93\\x94)R\\x94\\x8c\\x0f_backward_hooks\\x94h\\x0f)R\\x94\\x8c\\x16_is_full_backward_hook\\x94N\\x8c\\x0e_forward_hooks\\x94h\\x0f)R\\x94\\x8c\\x1a_forward_hooks_with_kwargs\\x94h\\x0f)R\\x94\\x8c\\x1c_forward_hooks_always_called\\x94h\\x0f)R\\x94\\x8c\\x12_forward_pre_hooks\\x94h\\x0f)R\\x94\\x8c\\x1e_forward_pre_hooks_with_kwargs\\x94h\\x0f)R\\x94\\x8c\\x11_state_dict_hooks\\x94h\\x0f)R\\x94\\x8c\\x15_state_dict_pre_hooks\\x94h\\x0f)R\\x94\\x8c\\x1a_load_state_dict_pre_hooks\\x94h\\x0f)R\\x94\\x8c\\x1b_load_state_dict_post_hooks\\x94h\\x0f)R\\x94\\x8c\\x08_modules\\x94}\\x94\\x8c\\x02fc\\x94\\x8c\\x17torch.nn.modules.linear\\x94\\x8c\\x06Linear\\x94\\x93\\x94)\\x81\\x94}\\x94(h\\x05\\x88h\\x06}\\x94(\\x8c\\x06weight\\x94\\x8c\\x0ctorch._utils\\x94\\x8c\\x12_rebuild_parameter\\x94\\x93\\x94h0\\x8c\\x12_rebuild_tensor_v2\\x94\\x93\\x94(\\x8c\\rtorch.storage\\x94\\x8c\\x10_load_from_bytes\\x94\\x93\\x94C\\xf5\\x80\\x02\\x8a\\nl\\xfc\\x9cF\\xf9 j\\xa8P\\x19.\\x80\\x02M\\xe9\\x03.\\x80\\x02}q\\x00(X\\x10\\x00\\x00\\x00protocol_versionq\\x01M\\xe9\\x03X\\r\\x00\\x00\\x00little_endianq\\x02\\x88X\\n\\x00\\x00\\x00type_sizesq\\x03}q\\x04(X\\x05\\x00\\x00\\x00shortq\\x05K\\x02X\\x03\\x00\\x00\\x00intq\\x06K\\x04X\\x04\\x00\\x00\\x00longq\\x07K\\x04uu.\\x80\\x02(X\\x07\\x00\\x00\\x00storageq\\x00ctorch\\nFloatStorage\\nq\\x01X\\t\\x00\\x00\\x00377129008q\\x02X\\x03\\x00\\x00\\x00cpuq\\x03K\\x01Ntq\\x04Q.\\x80\\x02]q\\x00X\\t\\x00\\x00\\x00377129008q\\x01a.\\x01\\x00\\x00\\x00\\x00\\x00\\x00\\x0002L?\\x94\\x85\\x94R\\x94K\\x00K\\x01K\\x01\\x86\\x94K\\x01K\\x01\\x86\\x94\\x89h\\x0f)R\\x94t\\x94R\\x94\\x88h\\x0f)R\\x94\\x87\\x94R\\x94\\x8c\\x04bias\\x94h2h4(h7C\\xf5\\x80\\x02\\x8a\\nl\\xfc\\x9cF\\xf9 j\\xa8P\\x19.\\x80\\x02M\\xe9\\x03.\\x80\\x02}q\\x00(X\\x10\\x00\\x00\\x00protocol_versionq\\x01M\\xe9\\x03X\\r\\x00\\x00\\x00little_endianq\\x02\\x88X\\n\\x00\\x00\\x00type_sizesq\\x03}q\\x04(X\\x05\\x00\\x00\\x00shortq\\x05K\\x02X\\x03\\x00\\x00\\x00intq\\x06K\\x04X\\x04\\x00\\x00\\x00longq\\x07K\\x04uu.\\x80\\x02(X\\x07\\x00\\x00\\x00storageq\\x00ctorch\\nFloatStorage\\nq\\x01X\\t\\x00\\x00\\x00375999600q\\x02X\\x03\\x00\\x00\\x00cpuq\\x03K\\x01Ntq\\x04Q.\\x80\\x02]q\\x00X\\t\\x00\\x00\\x00375999600q\\x01a.\\x01\\x00\\x00\\x00\\x00\\x00\\x00\\x00\\xbc,C\\xbf\\x94\\x85\\x94R\\x94K\\x00K\\x01\\x85\\x94K\\x01\\x85\\x94\\x89h\\x0f)R\\x94t\\x94R\\x94\\x88h\\x0f)R\\x94\\x87\\x94R\\x94uh\\x08}\\x94h\\n\\x8f\\x94h\\x0ch\\x0f)R\\x94h\\x11h\\x0f)R\\x94h\\x13Nh\\x14h\\x0f)R\\x94h\\x16h\\x0f)R\\x94h\\x18h\\x0f)R\\x94h\\x1ah\\x0f)R\\x94h\\x1ch\\x0f)R\\x94h\\x1eh\\x0f)R\\x94h h\\x0f)R\\x94h\"h\\x0f)R\\x94h$h\\x0f)R\\x94h&}\\x94\\x8c\\x0bin_features\\x94K\\x01\\x8c\\x0cout_features\\x94K\\x01ubs\\x8c\\x01a\\x94MY\\x08ub.'"
      ]
     },
     "execution_count": 120,
     "metadata": {},
     "output_type": "execute_result"
    }
   ],
   "source": [
    "import torch\n",
    "\n",
    "class M(torch.nn.Module):\n",
    "    def __init__(self):\n",
    "        super().__init__()\n",
    "\n",
    "        self.a = 2137\n",
    "        self.fc = torch.nn.Linear(1,1)\n",
    "\n",
    "# m = torch.tensor([1.])\n",
    "m = M()\n",
    "optim = torch.optim.Adam(m.parameters())\n",
    "lrs = torch.optim.lr_scheduler.StepLR(optim, 1)\n",
    "print(\"lrs\",json.dumps(lrs.state_dict(), indent=2))\n",
    "print(\"optim\",json.dumps(optim.state_dict(), indent=2))\n",
    "# print(\"m\",json.dumps(m.state_dict(), indent=2))\n",
    "import pickle\n",
    "\n",
    "pickle.dumps(m)"
   ]
  },
  {
   "cell_type": "code",
   "execution_count": 130,
   "id": "85f8cdd3",
   "metadata": {},
   "outputs": [
    {
     "name": "stdout",
     "output_type": "stream",
     "text": [
      "[RandomCrop(size=(224, 224), pad_if_needed=False, fill=0, padding_mode=constant), ToTensor(), Normalize(mean=[0.485, 0.456, 0.406], std=[0.229, 0.224, 0.225], inplace=False)]\n",
      "\"[RandomCrop(size=(224, 224), pad_if_needed=False, fill=0, padding_mode=constant), ToTensor(), Normalize(mean=[0.485, 0.456, 0.406], std=[0.229, 0.224, 0.225], inplace=False)]\"\n"
     ]
    },
    {
     "name": "stderr",
     "output_type": "stream",
     "text": [
      "/home/mrpaw/.local/lib/python3.12/site-packages/torchvision/transforms/v2/_deprecated.py:42: UserWarning: The transform `ToTensor()` is deprecated and will be removed in a future release. Instead, please use `v2.Compose([v2.ToImage(), v2.ToDtype(torch.float32, scale=True)])`.Output is equivalent up to float precision.\n",
      "  warnings.warn(\n"
     ]
    }
   ],
   "source": [
    "\n",
    "from torchvision.transforms import v2\n",
    "\n",
    "\n",
    "transTest2 = v2.Compose([\n",
    "    v2.RandomCrop((224,224)),\n",
    "    v2.ToTensor(),\n",
    "    v2.Normalize(mean=(0.485,0.456,0.406), std=(0.229,0.224,0.225))\n",
    "])\n",
    "\n",
    "print(transTest2.__dict__[\"transforms\"])\n",
    "print(json.dumps(str(transTest2.__dict__[\"transforms\"]), indent=2))\n"
   ]
  },
  {
   "cell_type": "code",
   "execution_count": null,
   "id": "d0d3e83a",
   "metadata": {},
   "outputs": [],
   "source": []
  }
 ],
 "metadata": {
  "kernelspec": {
   "display_name": ".venv",
   "language": "python",
   "name": "python3"
  },
  "language_info": {
   "codemirror_mode": {
    "name": "ipython",
    "version": 3
   },
   "file_extension": ".py",
   "mimetype": "text/x-python",
   "name": "python",
   "nbconvert_exporter": "python",
   "pygments_lexer": "ipython3",
   "version": "3.12.3"
  }
 },
 "nbformat": 4,
 "nbformat_minor": 5
}
