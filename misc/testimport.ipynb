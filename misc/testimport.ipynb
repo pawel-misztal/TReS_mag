{
 "cells": [
  {
   "cell_type": "code",
   "execution_count": 1,
   "id": "aaf03936",
   "metadata": {},
   "outputs": [],
   "source": [
    "import os\n",
    "os.environ['HSA_OVERRIDE_GFX_VERSION'] = '10.3.0'"
   ]
  },
  {
   "cell_type": "code",
   "execution_count": null,
   "id": "ac7ec41e",
   "metadata": {},
   "outputs": [],
   "source": [
    "import sys\n",
    "import os\n",
    "\n",
    "current_notebook_dir = os.path.abspath('') \n",
    "project_root_dir = os.path.dirname(current_notebook_dir) \n",
    "\n",
    "if project_root_dir not in sys.path:\n",
    "    sys.path.append(project_root_dir)\n",
    "\n",
    "try:\n",
    "    from Datasets import LiveDataset\n",
    "except ImportError as e:\n",
    "    print(e)"
   ]
  },
  {
   "cell_type": "code",
   "execution_count": 5,
   "id": "0a25eb6b",
   "metadata": {},
   "outputs": [],
   "source": [
    "dataset = LiveDataset.LIVEDataset(LiveDataset.LIVE_PATH, True)"
   ]
  },
  {
   "cell_type": "code",
   "execution_count": 15,
   "id": "203a1fb6",
   "metadata": {},
   "outputs": [
    {
     "name": "stdout",
     "output_type": "stream",
     "text": [
      "/home/mrpaw/Documents/Projects/Python/PytorchTestRocm/magisterka/misc\n",
      "/home/mrpaw/Documents/Projects/Python/PytorchTestRocm/magisterka\n",
      "/home/mrpaw/Documents/Projects/Python/PytorchTestRocm/magisterka/misc\n",
      "/home/mrpaw/Documents/Projects/Python/PytorchTestRocm/magisterka/misc/..\n",
      "/home/mrpaw/Documents/Projects/Python/PytorchTestRocm/magisterka\n"
     ]
    }
   ],
   "source": [
    "from pathlib import Path\n",
    "current_notebook_dir = os.path.abspath('')\n",
    "project_root_dir = os.path.dirname(current_notebook_dir) \n",
    "curDirPath = Path(current_notebook_dir)\n",
    "print(current_notebook_dir)\n",
    "print(project_root_dir)\n",
    "print(curDirPath)\n",
    "print(curDirPath / \"..\")\n",
    "print(curDirPath.parent)"
   ]
  },
  {
   "cell_type": "code",
   "execution_count": null,
   "id": "902c2696",
   "metadata": {},
   "outputs": [],
   "source": []
  }
 ],
 "metadata": {
  "kernelspec": {
   "display_name": ".venv",
   "language": "python",
   "name": "python3"
  },
  "language_info": {
   "codemirror_mode": {
    "name": "ipython",
    "version": 3
   },
   "file_extension": ".py",
   "mimetype": "text/x-python",
   "name": "python",
   "nbconvert_exporter": "python",
   "pygments_lexer": "ipython3",
   "version": "3.12.3"
  }
 },
 "nbformat": 4,
 "nbformat_minor": 5
}
