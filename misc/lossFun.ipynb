{
 "cells": [
  {
   "cell_type": "code",
   "execution_count": 2,
   "id": "9c474a4b",
   "metadata": {},
   "outputs": [],
   "source": [
    "import os\n",
    "os.environ['HSA_OVERRIDE_GFX_VERSION'] = '10.3.0'"
   ]
  },
  {
   "cell_type": "code",
   "execution_count": 3,
   "id": "33b5098a",
   "metadata": {},
   "outputs": [],
   "source": [
    "import torch"
   ]
  },
  {
   "cell_type": "markdown",
   "id": "bb029067",
   "metadata": {},
   "source": []
  },
  {
   "cell_type": "code",
   "execution_count": 4,
   "id": "67650d3b",
   "metadata": {},
   "outputs": [
    {
     "name": "stdout",
     "output_type": "stream",
     "text": [
      "tensor([[71.6880],\n",
      "        [79.1629],\n",
      "        [75.6734],\n",
      "        [40.9135],\n",
      "        [35.4407],\n",
      "        [49.8642],\n",
      "        [10.6525],\n",
      "        [ 0.6885],\n",
      "        [97.4801],\n",
      "        [87.6986]])\n",
      "tensor([[75.0360],\n",
      "        [99.8792],\n",
      "        [73.9922],\n",
      "        [47.7149],\n",
      "        [65.0679],\n",
      "        [77.5228],\n",
      "        [ 3.4557],\n",
      "        [17.8531],\n",
      "        [92.3823],\n",
      "        [95.4117]])\n"
     ]
    },
    {
     "data": {
      "text/plain": [
       "tensor(12.7005)"
      ]
     },
     "execution_count": 4,
     "metadata": {},
     "output_type": "execute_result"
    }
   ],
   "source": [
    "\n",
    "bs = 10\n",
    "target = torch.rand((bs,1),dtype=torch.float32) * 100\n",
    "mae = 40\n",
    "offset = torch.rand((bs,1),dtype=torch.float32) * mae\n",
    "# pred = torch.rand((1,bs),dtype=torch.float32) * 10\n",
    "pred = target + (offset - (offset.mean() / 2))\n",
    "print(target)\n",
    "print(pred)\n",
    "\n",
    "l1Loss = torch.nn.L1Loss()\n",
    "l1Loss.forward(pred,target)"
   ]
  },
  {
   "cell_type": "code",
   "execution_count": 14,
   "id": "c998bd9f",
   "metadata": {},
   "outputs": [
    {
     "data": {
      "text/plain": [
       "tensor([[17.8531]])"
      ]
     },
     "execution_count": 14,
     "metadata": {},
     "output_type": "execute_result"
    }
   ],
   "source": [
    "sortedI = target.argsort(dim=0)\n",
    "sortedI[0]\n",
    "pred[sortedI[0]]"
   ]
  },
  {
   "cell_type": "code",
   "execution_count": 166,
   "id": "fb083c13",
   "metadata": {},
   "outputs": [
    {
     "name": "stdout",
     "output_type": "stream",
     "text": [
      "tensor([[2],\n",
      "        [7],\n",
      "        [4],\n",
      "        [0],\n",
      "        [8],\n",
      "        [9],\n",
      "        [5],\n",
      "        [6],\n",
      "        [1],\n",
      "        [3]])\n"
     ]
    },
    {
     "data": {
      "text/plain": [
       "(torch.Size([10, 1]),\n",
       " tensor([[ 7.5831],\n",
       "         [15.2481],\n",
       "         [24.0031],\n",
       "         [26.8108],\n",
       "         [33.4258],\n",
       "         [35.2974],\n",
       "         [52.1167],\n",
       "         [65.8139],\n",
       "         [71.6114],\n",
       "         [88.3461]]),\n",
       " tensor([[ 29.6623],\n",
       "         [ 33.6221],\n",
       "         [ 24.6596],\n",
       "         [ 33.5735],\n",
       "         [ 41.4102],\n",
       "         [ 54.9278],\n",
       "         [ 47.5299],\n",
       "         [ 61.1063],\n",
       "         [ 69.0397],\n",
       "         [113.4024]]))"
      ]
     },
     "execution_count": 166,
     "metadata": {},
     "output_type": "execute_result"
    }
   ],
   "source": [
    "sortedI = target.argsort(dim=0)\n",
    "print(sortedI)\n",
    "sortedTarget = target[sortedI,:].squeeze(2)\n",
    "sortedPred = pred[sortedI,:].squeeze(2)\n",
    "# sortedTarget = target\n",
    "# sortedPred = pred\n",
    "sortedTarget.shape,sortedTarget, sortedPred"
   ]
  },
  {
   "cell_type": "code",
   "execution_count": 167,
   "id": "985e3792",
   "metadata": {},
   "outputs": [
    {
     "name": "stdout",
     "output_type": "stream",
     "text": [
      "p02 tensor([[29.6623],\n",
      "        [24.6596],\n",
      "        [41.4102],\n",
      "        [47.5299],\n",
      "        [69.0397]])\n",
      "p13 tensor([[ 33.6221],\n",
      "        [ 33.5735],\n",
      "        [ 54.9278],\n",
      "        [ 61.1063],\n",
      "        [113.4024]])\n",
      "t02 tensor([[ 7.5831],\n",
      "        [24.0031],\n",
      "        [33.4258],\n",
      "        [52.1167],\n",
      "        [71.6114]])\n",
      "t13 tensor([[15.2481],\n",
      "        [26.8108],\n",
      "        [35.2974],\n",
      "        [65.8139],\n",
      "        [88.3461]])\n",
      "ts tensor([[-1.],\n",
      "        [-1.],\n",
      "        [-1.],\n",
      "        [-1.],\n",
      "        [-1.]])\n",
      "tm tensor(8.5552)\n",
      "loss tensor(0.)\n",
      "pp02 tensor([[24.6596],\n",
      "        [41.4102],\n",
      "        [47.5299],\n",
      "        [69.0397]])\n",
      "pp13 tensor([[33.6221],\n",
      "        [33.5735],\n",
      "        [54.9278],\n",
      "        [61.1063]])\n",
      "tt02 tensor([[24.0031],\n",
      "        [33.4258],\n",
      "        [52.1167],\n",
      "        [71.6114]])\n",
      "tt13 tensor([[15.2481],\n",
      "        [26.8108],\n",
      "        [35.2974],\n",
      "        [65.8139]])\n",
      "tts tensor([[1.],\n",
      "        [1.],\n",
      "        [1.],\n",
      "        [1.]])\n",
      "ttm tensor(9.4967)\n",
      "loss tensor(5.9894)\n",
      "tensor(5.9894)\n"
     ]
    }
   ],
   "source": [
    "margin = 20 # <1 easy >1 hard\n",
    "a = 0.4\n",
    "\n",
    "p02 = sortedPred[0::2,:]\n",
    "p13 = sortedPred[1::2,:]\n",
    "t02 = sortedTarget[0::2,:]\n",
    "t13 = sortedTarget[1::2,:]\n",
    "t = (t02 - t13).sign()\n",
    "tm = (t02 - t13).abs().mean()\n",
    "print(\"p02\", p02)\n",
    "print(\"p13\", p13)\n",
    "print(\"t02\", t02)\n",
    "print(\"t13\", t13)\n",
    "print(\"ts\", t)\n",
    "print(\"tm\", tm)\n",
    "\n",
    "margin = tm * a\n",
    "ml = torch.nn.MarginRankingLoss(margin)\n",
    "ml1 = ml.forward(p02,p13, t)\n",
    "print(\"loss\",ml1)\n",
    "\n",
    "p12 = p02[1:,:]\n",
    "p23 = p13[0:-1,:]\n",
    "t12 = t02[1:,:]\n",
    "t23 = t13[0:-1,:]\n",
    "tt = (t12 - t23).sign()\n",
    "ttm = (t12 - t23).abs().mean()\n",
    "margin = ttm * a\n",
    "ml = torch.nn.MarginRankingLoss(margin)\n",
    "print(\"pp02\", p12)\n",
    "print(\"pp13\", p23)\n",
    "print(\"tt02\", t12)\n",
    "print(\"tt13\", t23)\n",
    "print(\"tts\", tt)\n",
    "print(\"ttm\", ttm)\n",
    "ml2 = ml.forward(p12,p23, tt)\n",
    "print(\"loss\",ml2)\n",
    "print(ml1 + ml2)"
   ]
  },
  {
   "cell_type": "code",
   "execution_count": 180,
   "id": "376e03aa",
   "metadata": {},
   "outputs": [],
   "source": [
    "class DynamicMarginRankingLoss(torch.nn.Module):\n",
    "    def __init__(self, alpha:float = 0, sort:bool = True):\n",
    "        super().__init__()\n",
    "\n",
    "        self.alpha = alpha\n",
    "        self.sort = sort\n",
    "        self.marginLoss = torch.nn.MarginRankingLoss()\n",
    "\n",
    "    def forward(self,input:torch.Tensor, target:torch.Tensor) -> torch.Tensor:\n",
    "\n",
    "\n",
    "        if(len(input) < 4):\n",
    "            return torch.tensor(0)\n",
    "        \n",
    "        if(len(input) % 2 != 0):\n",
    "            # return torch.tensor(0)\n",
    "            input = input[:-1,:]\n",
    "            target = target[:-1,:]\n",
    "        \n",
    "        sortedI = target.argsort(dim=0)\n",
    "        if(self.sort):\n",
    "            sortedTarget = target[sortedI,:].squeeze(2)\n",
    "            sortedPred = input[sortedI,:].squeeze(2)\n",
    "        else:\n",
    "            sortedTarget = target\n",
    "            sortedPred = input\n",
    "\n",
    "        p02 = sortedPred[0::2,:]\n",
    "        p13 = sortedPred[1::2,:]\n",
    "        t02 = sortedTarget[0::2,:]\n",
    "        t13 = sortedTarget[1::2,:]\n",
    "        t = (t02 - t13).sign()\n",
    "        tm = (t02 - t13).abs().mean()\n",
    "\n",
    "        margin = tm * self.alpha\n",
    "        self.marginLoss.margin = margin\n",
    "        loss_01_12 = self.marginLoss.forward(p02,p13, t)\n",
    "\n",
    "        p12 = p02[1:,:]\n",
    "        p23 = p13[0:-1,:]\n",
    "        t12 = t02[1:,:]\n",
    "        t23 = t13[0:-1,:]\n",
    "        tt = (t12 - t23).sign()\n",
    "        ttm = (t12 - t23).abs().mean()\n",
    "        margin = ttm * self.alpha\n",
    "        self.marginLoss.margin = margin\n",
    "        loss_12_23 = self.marginLoss.forward(p12,p23, tt)\n",
    "\n",
    "        return loss_01_12 + loss_12_23"
   ]
  },
  {
   "cell_type": "code",
   "execution_count": 187,
   "id": "91e9c3ec",
   "metadata": {},
   "outputs": [
    {
     "name": "stdout",
     "output_type": "stream",
     "text": [
      "11\n",
      "tensor([[43.7459],\n",
      "        [77.6764],\n",
      "        [51.1396],\n",
      "        [59.5549],\n",
      "        [61.1553],\n",
      "        [52.9799],\n",
      "        [73.0600],\n",
      "        [45.2424],\n",
      "        [89.5174],\n",
      "        [49.0565],\n",
      "        [32.1831]])\n",
      "tensor([[ 42.9171],\n",
      "        [ 88.7756],\n",
      "        [ 42.6100],\n",
      "        [ 55.5207],\n",
      "        [ 72.3575],\n",
      "        [ 76.9580],\n",
      "        [ 69.6210],\n",
      "        [ 67.7207],\n",
      "        [102.1103],\n",
      "        [ 79.4305],\n",
      "        [ 41.8411]])\n"
     ]
    },
    {
     "data": {
      "text/plain": [
       "tensor(12.5649)"
      ]
     },
     "execution_count": 187,
     "metadata": {},
     "output_type": "execute_result"
    }
   ],
   "source": [
    "\n",
    "bs = 11\n",
    "target = torch.rand((bs,1),dtype=torch.float32) * 100\n",
    "mae = 40\n",
    "offset = torch.rand((bs,1),dtype=torch.float32) * mae\n",
    "# pred = torch.rand((1,bs),dtype=torch.float32) * 10\n",
    "pred = target + (offset - (offset.mean() / 2))\n",
    "print(len(target))\n",
    "print(target)\n",
    "print(pred)\n",
    "\n",
    "l1Loss = torch.nn.L1Loss()\n",
    "l1Loss.forward(pred,target)"
   ]
  },
  {
   "cell_type": "code",
   "execution_count": 188,
   "id": "7dda3d06",
   "metadata": {},
   "outputs": [
    {
     "data": {
      "text/plain": [
       "tensor(13.8261)"
      ]
     },
     "execution_count": 188,
     "metadata": {},
     "output_type": "execute_result"
    }
   ],
   "source": [
    "dml = DynamicMarginRankingLoss(0.4)\n",
    "l = dml.forward(pred,target)\n",
    "l\n",
    "#21.5"
   ]
  },
  {
   "cell_type": "code",
   "execution_count": 164,
   "id": "b5b25796",
   "metadata": {},
   "outputs": [
    {
     "data": {
      "text/plain": [
       "tensor(4.6576)"
      ]
     },
     "execution_count": 164,
     "metadata": {},
     "output_type": "execute_result"
    }
   ],
   "source": [
    "dml = DynamicMarginRankingLoss(0.4, False)\n",
    "l = dml.forward(pred,target)\n",
    "l"
   ]
  }
 ],
 "metadata": {
  "kernelspec": {
   "display_name": ".venv",
   "language": "python",
   "name": "python3"
  },
  "language_info": {
   "codemirror_mode": {
    "name": "ipython",
    "version": 3
   },
   "file_extension": ".py",
   "mimetype": "text/x-python",
   "name": "python",
   "nbconvert_exporter": "python",
   "pygments_lexer": "ipython3",
   "version": "3.12.3"
  }
 },
 "nbformat": 4,
 "nbformat_minor": 5
}
